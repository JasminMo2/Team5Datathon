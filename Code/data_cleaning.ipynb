{
 "cells": [
  {
   "cell_type": "markdown",
   "metadata": {},
   "source": [
    "# Studying the Impact of Diabetes on the Human Body\n",
    "&#x1F3E5;\n",
    "---\n",
    "\n",
    "### Data Cleaning\n"
   ]
  },
  {
   "cell_type": "markdown",
   "metadata": {},
   "source": [
    "##### Import the required libraries"
   ]
  },
  {
   "cell_type": "code",
   "execution_count": 2,
   "metadata": {},
   "outputs": [],
   "source": [
    "import pandas as pd"
   ]
  },
  {
   "cell_type": "markdown",
   "metadata": {},
   "source": [
    "##### Load the data"
   ]
  },
  {
   "cell_type": "code",
   "execution_count": 3,
   "metadata": {},
   "outputs": [],
   "source": [
    "raw_data = pd.read_csv('..\\diabetes_data.csv')"
   ]
  },
  {
   "cell_type": "markdown",
   "metadata": {},
   "source": [
    "##### Inspect the data"
   ]
  },
  {
   "cell_type": "code",
   "execution_count": 10,
   "metadata": {},
   "outputs": [
    {
     "name": "stdout",
     "output_type": "stream",
     "text": [
      "Data Overview:\n"
     ]
    },
    {
     "data": {
      "text/html": [
       "<div>\n",
       "<style scoped>\n",
       "    .dataframe tbody tr th:only-of-type {\n",
       "        vertical-align: middle;\n",
       "    }\n",
       "\n",
       "    .dataframe tbody tr th {\n",
       "        vertical-align: top;\n",
       "    }\n",
       "\n",
       "    .dataframe thead th {\n",
       "        text-align: right;\n",
       "    }\n",
       "</style>\n",
       "<table border=\"1\" class=\"dataframe\">\n",
       "  <thead>\n",
       "    <tr style=\"text-align: right;\">\n",
       "      <th></th>\n",
       "      <th>gender</th>\n",
       "      <th>age</th>\n",
       "      <th>hypertension</th>\n",
       "      <th>diabetes_pedigree_function</th>\n",
       "      <th>diet_type</th>\n",
       "      <th>star_sign</th>\n",
       "      <th>BMI</th>\n",
       "      <th>weight</th>\n",
       "      <th>family_diabetes_history</th>\n",
       "      <th>social_media_usage</th>\n",
       "      <th>physical_activity_level</th>\n",
       "      <th>sleep_duration</th>\n",
       "      <th>stress_level</th>\n",
       "      <th>pregnancies</th>\n",
       "      <th>alcohol_consumption</th>\n",
       "      <th>diabetes</th>\n",
       "    </tr>\n",
       "  </thead>\n",
       "  <tbody>\n",
       "    <tr>\n",
       "      <th>0</th>\n",
       "      <td>female</td>\n",
       "      <td>NaN</td>\n",
       "      <td>NaN</td>\n",
       "      <td>0.37</td>\n",
       "      <td>paleo</td>\n",
       "      <td>NaN</td>\n",
       "      <td>NaN</td>\n",
       "      <td>197.7</td>\n",
       "      <td>NaN</td>\n",
       "      <td>Occasionally</td>\n",
       "      <td>Sedentary</td>\n",
       "      <td>1.5</td>\n",
       "      <td>Low</td>\n",
       "      <td>NaN</td>\n",
       "      <td>light</td>\n",
       "      <td>1.0</td>\n",
       "    </tr>\n",
       "    <tr>\n",
       "      <th>1</th>\n",
       "      <td>male</td>\n",
       "      <td>59.0</td>\n",
       "      <td>0.0</td>\n",
       "      <td>0.73</td>\n",
       "      <td>NaN</td>\n",
       "      <td>Leo</td>\n",
       "      <td>17.1</td>\n",
       "      <td>156.5</td>\n",
       "      <td>0.0</td>\n",
       "      <td>Occasionally</td>\n",
       "      <td>Lightly Active</td>\n",
       "      <td>5.4</td>\n",
       "      <td>Moderate</td>\n",
       "      <td>0.0</td>\n",
       "      <td>none</td>\n",
       "      <td>1.0</td>\n",
       "    </tr>\n",
       "    <tr>\n",
       "      <th>2</th>\n",
       "      <td>female</td>\n",
       "      <td>31.0</td>\n",
       "      <td>NaN</td>\n",
       "      <td>NaN</td>\n",
       "      <td>NaN</td>\n",
       "      <td>NaN</td>\n",
       "      <td>22.5</td>\n",
       "      <td>137.8</td>\n",
       "      <td>NaN</td>\n",
       "      <td>Occasionally</td>\n",
       "      <td>Lightly Active</td>\n",
       "      <td>7.6</td>\n",
       "      <td>Low</td>\n",
       "      <td>0.0</td>\n",
       "      <td>light</td>\n",
       "      <td>1.0</td>\n",
       "    </tr>\n",
       "    <tr>\n",
       "      <th>3</th>\n",
       "      <td>female</td>\n",
       "      <td>81.0</td>\n",
       "      <td>1.0</td>\n",
       "      <td>0.37</td>\n",
       "      <td>pescatarian</td>\n",
       "      <td>NaN</td>\n",
       "      <td>NaN</td>\n",
       "      <td>108.2</td>\n",
       "      <td>0.0</td>\n",
       "      <td>NaN</td>\n",
       "      <td>Sedentary</td>\n",
       "      <td>7.7</td>\n",
       "      <td>Low</td>\n",
       "      <td>1.0</td>\n",
       "      <td>heavy</td>\n",
       "      <td>NaN</td>\n",
       "    </tr>\n",
       "    <tr>\n",
       "      <th>4</th>\n",
       "      <td>NaN</td>\n",
       "      <td>64.0</td>\n",
       "      <td>0.0</td>\n",
       "      <td>0.55</td>\n",
       "      <td>carnivore</td>\n",
       "      <td>NaN</td>\n",
       "      <td>NaN</td>\n",
       "      <td>179.7</td>\n",
       "      <td>NaN</td>\n",
       "      <td>Occasionally</td>\n",
       "      <td>Sedentary</td>\n",
       "      <td>7.8</td>\n",
       "      <td>NaN</td>\n",
       "      <td>0.0</td>\n",
       "      <td>heavy</td>\n",
       "      <td>1.0</td>\n",
       "    </tr>\n",
       "  </tbody>\n",
       "</table>\n",
       "</div>"
      ],
      "text/plain": [
       "   gender   age  hypertension  diabetes_pedigree_function    diet_type  \\\n",
       "0  female   NaN           NaN                        0.37        paleo   \n",
       "1    male  59.0           0.0                        0.73          NaN   \n",
       "2  female  31.0           NaN                         NaN          NaN   \n",
       "3  female  81.0           1.0                        0.37  pescatarian   \n",
       "4     NaN  64.0           0.0                        0.55    carnivore   \n",
       "\n",
       "  star_sign   BMI  weight  family_diabetes_history social_media_usage  \\\n",
       "0       NaN   NaN   197.7                      NaN       Occasionally   \n",
       "1       Leo  17.1   156.5                      0.0       Occasionally   \n",
       "2       NaN  22.5   137.8                      NaN       Occasionally   \n",
       "3       NaN   NaN   108.2                      0.0                NaN   \n",
       "4       NaN   NaN   179.7                      NaN       Occasionally   \n",
       "\n",
       "  physical_activity_level  sleep_duration stress_level  pregnancies  \\\n",
       "0               Sedentary             1.5          Low          NaN   \n",
       "1          Lightly Active             5.4     Moderate          0.0   \n",
       "2          Lightly Active             7.6          Low          0.0   \n",
       "3               Sedentary             7.7          Low          1.0   \n",
       "4               Sedentary             7.8          NaN          0.0   \n",
       "\n",
       "  alcohol_consumption  diabetes  \n",
       "0               light       1.0  \n",
       "1                none       1.0  \n",
       "2               light       1.0  \n",
       "3               heavy       NaN  \n",
       "4               heavy       1.0  "
      ]
     },
     "execution_count": 10,
     "metadata": {},
     "output_type": "execute_result"
    }
   ],
   "source": [
    "# Data overview\n",
    "print('Data Overview:')\n",
    "raw_data.head()"
   ]
  },
  {
   "cell_type": "code",
   "execution_count": 15,
   "metadata": {},
   "outputs": [
    {
     "name": "stdout",
     "output_type": "stream",
     "text": [
      "Column Information:\n",
      "\n",
      "\n",
      "<class 'pandas.core.frame.DataFrame'>\n",
      "RangeIndex: 100000 entries, 0 to 99999\n",
      "Data columns (total 16 columns):\n",
      " #   Column                      Non-Null Count  Dtype  \n",
      "---  ------                      --------------  -----  \n",
      " 0   gender                      79954 non-null  object \n",
      " 1   age                         80145 non-null  float64\n",
      " 2   hypertension                80169 non-null  float64\n",
      " 3   diabetes_pedigree_function  80120 non-null  float64\n",
      " 4   diet_type                   79939 non-null  object \n",
      " 5   star_sign                   79806 non-null  object \n",
      " 6   BMI                         79934 non-null  float64\n",
      " 7   weight                      80126 non-null  float64\n",
      " 8   family_diabetes_history     79863 non-null  float64\n",
      " 9   social_media_usage          79968 non-null  object \n",
      " 10  physical_activity_level     80032 non-null  object \n",
      " 11  sleep_duration              80063 non-null  float64\n",
      " 12  stress_level                80024 non-null  object \n",
      " 13  pregnancies                 80033 non-null  float64\n",
      " 14  alcohol_consumption         79896 non-null  object \n",
      " 15  diabetes                    80242 non-null  float64\n",
      "dtypes: float64(9), object(7)\n",
      "memory usage: 12.2+ MB\n"
     ]
    }
   ],
   "source": [
    "# Column Information\n",
    "print('Column Information:')\n",
    "print('\\n')\n",
    "raw_data.info()"
   ]
  },
  {
   "cell_type": "code",
   "execution_count": 23,
   "metadata": {},
   "outputs": [
    {
     "name": "stdout",
     "output_type": "stream",
     "text": [
      "Total Number of Rows: 100000\n"
     ]
    }
   ],
   "source": [
    "# Rows Information\n",
    "print('Total Number of Rows: ' + str(len(raw_data)))"
   ]
  },
  {
   "cell_type": "code",
   "execution_count": 27,
   "metadata": {},
   "outputs": [
    {
     "name": "stdout",
     "output_type": "stream",
     "text": [
      "Number-encoded Variables Review:\n"
     ]
    },
    {
     "data": {
      "text/html": [
       "<div>\n",
       "<style scoped>\n",
       "    .dataframe tbody tr th:only-of-type {\n",
       "        vertical-align: middle;\n",
       "    }\n",
       "\n",
       "    .dataframe tbody tr th {\n",
       "        vertical-align: top;\n",
       "    }\n",
       "\n",
       "    .dataframe thead th {\n",
       "        text-align: right;\n",
       "    }\n",
       "</style>\n",
       "<table border=\"1\" class=\"dataframe\">\n",
       "  <thead>\n",
       "    <tr style=\"text-align: right;\">\n",
       "      <th></th>\n",
       "      <th>age</th>\n",
       "      <th>hypertension</th>\n",
       "      <th>diabetes_pedigree_function</th>\n",
       "      <th>BMI</th>\n",
       "      <th>weight</th>\n",
       "      <th>family_diabetes_history</th>\n",
       "      <th>sleep_duration</th>\n",
       "      <th>pregnancies</th>\n",
       "      <th>diabetes</th>\n",
       "    </tr>\n",
       "  </thead>\n",
       "  <tbody>\n",
       "    <tr>\n",
       "      <th>min</th>\n",
       "      <td>18.0</td>\n",
       "      <td>0.0</td>\n",
       "      <td>0.2</td>\n",
       "      <td>1.8</td>\n",
       "      <td>50.0</td>\n",
       "      <td>0.0</td>\n",
       "      <td>0.0</td>\n",
       "      <td>0.0</td>\n",
       "      <td>0.0</td>\n",
       "    </tr>\n",
       "    <tr>\n",
       "      <th>median</th>\n",
       "      <td>45.0</td>\n",
       "      <td>0.0</td>\n",
       "      <td>0.5</td>\n",
       "      <td>27.0</td>\n",
       "      <td>150.9</td>\n",
       "      <td>0.0</td>\n",
       "      <td>5.3</td>\n",
       "      <td>0.0</td>\n",
       "      <td>1.0</td>\n",
       "    </tr>\n",
       "    <tr>\n",
       "      <th>max</th>\n",
       "      <td>91.0</td>\n",
       "      <td>1.0</td>\n",
       "      <td>0.8</td>\n",
       "      <td>53.1</td>\n",
       "      <td>250.0</td>\n",
       "      <td>1.0</td>\n",
       "      <td>12.0</td>\n",
       "      <td>5.0</td>\n",
       "      <td>1.0</td>\n",
       "    </tr>\n",
       "  </tbody>\n",
       "</table>\n",
       "</div>"
      ],
      "text/plain": [
       "         age  hypertension  diabetes_pedigree_function   BMI  weight  \\\n",
       "min     18.0           0.0                         0.2   1.8    50.0   \n",
       "median  45.0           0.0                         0.5  27.0   150.9   \n",
       "max     91.0           1.0                         0.8  53.1   250.0   \n",
       "\n",
       "        family_diabetes_history  sleep_duration  pregnancies  diabetes  \n",
       "min                         0.0             0.0          0.0       0.0  \n",
       "median                      0.0             5.3          0.0       1.0  \n",
       "max                         1.0            12.0          5.0       1.0  "
      ]
     },
     "execution_count": 27,
     "metadata": {},
     "output_type": "execute_result"
    }
   ],
   "source": [
    "# Identifying numerical variables versus number-encoded categorical variables\n",
    "print('Number-encoded Variables Review:')\n",
    "raw_data.select_dtypes(include='number').agg(['min', 'median', 'max'])"
   ]
  },
  {
   "cell_type": "code",
   "execution_count": 33,
   "metadata": {},
   "outputs": [
    {
     "name": "stdout",
     "output_type": "stream",
     "text": [
      "hypertension\n",
      "0.0    63955\n",
      "1.0    16214\n",
      "Name: count, dtype: int64\n",
      "\n",
      "\n",
      "family_diabetes_history\n",
      "0.0    55731\n",
      "1.0    24132\n",
      "Name: count, dtype: int64\n",
      "\n",
      "\n",
      "diabetes\n",
      "1.0    76626\n",
      "0.0     3616\n",
      "Name: count, dtype: int64\n"
     ]
    }
   ],
   "source": [
    "#Confirm number-encoded categorical variables\n",
    "print(raw_data['hypertension'].value_counts())\n",
    "print('\\n')\n",
    "print(raw_data['family_diabetes_history'].value_counts())\n",
    "print('\\n')\n",
    "print(raw_data['diabetes'].value_counts())"
   ]
  },
  {
   "cell_type": "markdown",
   "metadata": {},
   "source": [
    "By studying the results above, it is possible to concluded that:\n",
    "- `age`, `diabetes_pedrigree_function`, `BMI`, `weight`, `sleep_duration`, and `pregnancies` are numerical variables \n",
    "- `hypertension`, `family_diabetes_history`, and `diabetes` are categorical variables enconded as 1 and 0\n",
    "- `gender`, `diet_type`, `star_sign`, `social_media_usage`, `physical_activity_level`, `stress_level`, and `alcohol_consumption` are categorical variables"
   ]
  },
  {
   "cell_type": "code",
   "execution_count": 34,
   "metadata": {},
   "outputs": [
    {
     "name": "stdout",
     "output_type": "stream",
     "text": [
      "Numerical Variables Statistics:\n"
     ]
    },
    {
     "data": {
      "text/html": [
       "<div>\n",
       "<style scoped>\n",
       "    .dataframe tbody tr th:only-of-type {\n",
       "        vertical-align: middle;\n",
       "    }\n",
       "\n",
       "    .dataframe tbody tr th {\n",
       "        vertical-align: top;\n",
       "    }\n",
       "\n",
       "    .dataframe thead th {\n",
       "        text-align: right;\n",
       "    }\n",
       "</style>\n",
       "<table border=\"1\" class=\"dataframe\">\n",
       "  <thead>\n",
       "    <tr style=\"text-align: right;\">\n",
       "      <th></th>\n",
       "      <th>age</th>\n",
       "      <th>diabetes_pedigree_function</th>\n",
       "      <th>BMI</th>\n",
       "      <th>weight</th>\n",
       "      <th>sleep_duration</th>\n",
       "      <th>pregnancies</th>\n",
       "    </tr>\n",
       "  </thead>\n",
       "  <tbody>\n",
       "    <tr>\n",
       "      <th>count</th>\n",
       "      <td>80145.000000</td>\n",
       "      <td>80120.000000</td>\n",
       "      <td>79934.000000</td>\n",
       "      <td>80126.000000</td>\n",
       "      <td>80063.000000</td>\n",
       "      <td>80033.000000</td>\n",
       "    </tr>\n",
       "    <tr>\n",
       "      <th>mean</th>\n",
       "      <td>45.107306</td>\n",
       "      <td>0.500877</td>\n",
       "      <td>26.978545</td>\n",
       "      <td>150.526618</td>\n",
       "      <td>5.295149</td>\n",
       "      <td>0.758212</td>\n",
       "    </tr>\n",
       "    <tr>\n",
       "      <th>std</th>\n",
       "      <td>18.550434</td>\n",
       "      <td>0.173783</td>\n",
       "      <td>6.005039</td>\n",
       "      <td>57.731539</td>\n",
       "      <td>2.842133</td>\n",
       "      <td>1.281326</td>\n",
       "    </tr>\n",
       "    <tr>\n",
       "      <th>min</th>\n",
       "      <td>18.000000</td>\n",
       "      <td>0.200000</td>\n",
       "      <td>1.800000</td>\n",
       "      <td>50.000000</td>\n",
       "      <td>0.000000</td>\n",
       "      <td>0.000000</td>\n",
       "    </tr>\n",
       "    <tr>\n",
       "      <th>25%</th>\n",
       "      <td>27.000000</td>\n",
       "      <td>0.350000</td>\n",
       "      <td>22.900000</td>\n",
       "      <td>100.300000</td>\n",
       "      <td>3.300000</td>\n",
       "      <td>0.000000</td>\n",
       "    </tr>\n",
       "    <tr>\n",
       "      <th>50%</th>\n",
       "      <td>45.000000</td>\n",
       "      <td>0.500000</td>\n",
       "      <td>27.000000</td>\n",
       "      <td>150.900000</td>\n",
       "      <td>5.300000</td>\n",
       "      <td>0.000000</td>\n",
       "    </tr>\n",
       "    <tr>\n",
       "      <th>75%</th>\n",
       "      <td>60.000000</td>\n",
       "      <td>0.650000</td>\n",
       "      <td>31.000000</td>\n",
       "      <td>200.400000</td>\n",
       "      <td>7.000000</td>\n",
       "      <td>1.000000</td>\n",
       "    </tr>\n",
       "    <tr>\n",
       "      <th>max</th>\n",
       "      <td>91.000000</td>\n",
       "      <td>0.800000</td>\n",
       "      <td>53.100000</td>\n",
       "      <td>250.000000</td>\n",
       "      <td>12.000000</td>\n",
       "      <td>5.000000</td>\n",
       "    </tr>\n",
       "  </tbody>\n",
       "</table>\n",
       "</div>"
      ],
      "text/plain": [
       "                age  diabetes_pedigree_function           BMI        weight  \\\n",
       "count  80145.000000                80120.000000  79934.000000  80126.000000   \n",
       "mean      45.107306                    0.500877     26.978545    150.526618   \n",
       "std       18.550434                    0.173783      6.005039     57.731539   \n",
       "min       18.000000                    0.200000      1.800000     50.000000   \n",
       "25%       27.000000                    0.350000     22.900000    100.300000   \n",
       "50%       45.000000                    0.500000     27.000000    150.900000   \n",
       "75%       60.000000                    0.650000     31.000000    200.400000   \n",
       "max       91.000000                    0.800000     53.100000    250.000000   \n",
       "\n",
       "       sleep_duration   pregnancies  \n",
       "count    80063.000000  80033.000000  \n",
       "mean         5.295149      0.758212  \n",
       "std          2.842133      1.281326  \n",
       "min          0.000000      0.000000  \n",
       "25%          3.300000      0.000000  \n",
       "50%          5.300000      0.000000  \n",
       "75%          7.000000      1.000000  \n",
       "max         12.000000      5.000000  "
      ]
     },
     "execution_count": 34,
     "metadata": {},
     "output_type": "execute_result"
    }
   ],
   "source": [
    "# Numerical Variables Statistics\n",
    "print('Numerical Variables Statistics:')\n",
    "raw_data[['age','diabetes_pedigree_function', 'BMI', 'weight', 'sleep_duration', 'pregnancies']].describe()"
   ]
  },
  {
   "cell_type": "markdown",
   "metadata": {},
   "source": [
    "##### Data Inspection Notes\n",
    "- Diabetes Pedigree Function: is a functions that scores the probability of diabetes based on family history"
   ]
  }
 ],
 "metadata": {
  "kernelspec": {
   "display_name": "Python (venv)",
   "language": "python",
   "name": "venv"
  },
  "language_info": {
   "codemirror_mode": {
    "name": "ipython",
    "version": 3
   },
   "file_extension": ".py",
   "mimetype": "text/x-python",
   "name": "python",
   "nbconvert_exporter": "python",
   "pygments_lexer": "ipython3",
   "version": "3.11.9"
  }
 },
 "nbformat": 4,
 "nbformat_minor": 2
}

{
 "cells": [
  {
   "cell_type": "markdown",
   "metadata": {},
   "source": [
    "# Studying the Impact of Diabetes on the Human Body\n",
    "&#x1F3E5;\n",
    "---\n",
    "\n",
    "### Data Cleaning\n"
   ]
  },
  {
   "cell_type": "markdown",
   "metadata": {},
   "source": [
    "##### Import the required libraries"
   ]
  },
  {
   "cell_type": "code",
   "execution_count": 1,
   "metadata": {},
   "outputs": [],
   "source": [
    "import pandas as pd"
   ]
  },
  {
   "cell_type": "markdown",
   "metadata": {},
   "source": [
    "##### Load the data"
   ]
  },
  {
   "cell_type": "code",
   "execution_count": 2,
   "metadata": {},
   "outputs": [],
   "source": [
    "raw_data = pd.read_csv('..\\diabetes_data.csv')"
   ]
  },
  {
   "cell_type": "markdown",
   "metadata": {},
   "source": [
    "##### Inspect the data"
   ]
  },
  {
   "cell_type": "code",
   "execution_count": 9,
   "metadata": {},
   "outputs": [
    {
     "name": "stdout",
     "output_type": "stream",
     "text": [
      "Data Overview:\n",
      "   gender   age  hypertension  diabetes_pedigree_function    diet_type  \\\n",
      "0  female   NaN           NaN                        0.37        paleo   \n",
      "1    male  59.0           0.0                        0.73          NaN   \n",
      "2  female  31.0           NaN                         NaN          NaN   \n",
      "3  female  81.0           1.0                        0.37  pescatarian   \n",
      "4     NaN  64.0           0.0                        0.55    carnivore   \n",
      "\n",
      "  star_sign   BMI  weight  family_diabetes_history social_media_usage  \\\n",
      "0       NaN   NaN   197.7                      NaN       Occasionally   \n",
      "1       Leo  17.1   156.5                      0.0       Occasionally   \n",
      "2       NaN  22.5   137.8                      NaN       Occasionally   \n",
      "3       NaN   NaN   108.2                      0.0                NaN   \n",
      "4       NaN   NaN   179.7                      NaN       Occasionally   \n",
      "\n",
      "  physical_activity_level  sleep_duration stress_level  pregnancies  \\\n",
      "0               Sedentary             1.5          Low          NaN   \n",
      "1          Lightly Active             5.4     Moderate          0.0   \n",
      "2          Lightly Active             7.6          Low          0.0   \n",
      "3               Sedentary             7.7          Low          1.0   \n",
      "4               Sedentary             7.8          NaN          0.0   \n",
      "\n",
      "  alcohol_consumption  diabetes  \n",
      "0               light       1.0  \n",
      "1                none       1.0  \n",
      "2               light       1.0  \n",
      "3               heavy       NaN  \n",
      "4               heavy       1.0  \n"
     ]
    }
   ],
   "source": [
    "# Data overview\n",
    "print('Data Overview:')\n",
    "print(raw_data.head())"
   ]
  },
  {
   "cell_type": "code",
   "execution_count": 11,
   "metadata": {},
   "outputs": [
    {
     "name": "stdout",
     "output_type": "stream",
     "text": [
      "Column Information:\n",
      "<class 'pandas.core.frame.DataFrame'>\n",
      "RangeIndex: 100000 entries, 0 to 99999\n",
      "Data columns (total 16 columns):\n",
      " #   Column                      Non-Null Count  Dtype  \n",
      "---  ------                      --------------  -----  \n",
      " 0   gender                      79954 non-null  object \n",
      " 1   age                         80145 non-null  float64\n",
      " 2   hypertension                80169 non-null  float64\n",
      " 3   diabetes_pedigree_function  80120 non-null  float64\n",
      " 4   diet_type                   79939 non-null  object \n",
      " 5   star_sign                   79806 non-null  object \n",
      " 6   BMI                         79934 non-null  float64\n",
      " 7   weight                      80126 non-null  float64\n",
      " 8   family_diabetes_history     79863 non-null  float64\n",
      " 9   social_media_usage          79968 non-null  object \n",
      " 10  physical_activity_level     80032 non-null  object \n",
      " 11  sleep_duration              80063 non-null  float64\n",
      " 12  stress_level                80024 non-null  object \n",
      " 13  pregnancies                 80033 non-null  float64\n",
      " 14  alcohol_consumption         79896 non-null  object \n",
      " 15  diabetes                    80242 non-null  float64\n",
      "dtypes: float64(9), object(7)\n",
      "memory usage: 12.2+ MB\n",
      "None\n"
     ]
    }
   ],
   "source": [
    "# Column Information\n",
    "print('Column Information:')\n",
    "print(raw_data.info())"
   ]
  },
  {
   "cell_type": "code",
   "execution_count": 12,
   "metadata": {},
   "outputs": [
    {
     "name": "stdout",
     "output_type": "stream",
     "text": [
      "Preliminary Statistics:\n",
      "                age  hypertension  diabetes_pedigree_function           BMI  \\\n",
      "count  80145.000000  80169.000000                80120.000000  79934.000000   \n",
      "mean      45.107306      0.202248                    0.500877     26.978545   \n",
      "std       18.550434      0.401678                    0.173783      6.005039   \n",
      "min       18.000000      0.000000                    0.200000      1.800000   \n",
      "25%       27.000000      0.000000                    0.350000     22.900000   \n",
      "50%       45.000000      0.000000                    0.500000     27.000000   \n",
      "75%       60.000000      0.000000                    0.650000     31.000000   \n",
      "max       91.000000      1.000000                    0.800000     53.100000   \n",
      "\n",
      "             weight  family_diabetes_history  sleep_duration   pregnancies  \\\n",
      "count  80126.000000             79863.000000    80063.000000  80033.000000   \n",
      "mean     150.526618                 0.302167        5.295149      0.758212   \n",
      "std       57.731539                 0.459200        2.842133      1.281326   \n",
      "min       50.000000                 0.000000        0.000000      0.000000   \n",
      "25%      100.300000                 0.000000        3.300000      0.000000   \n",
      "50%      150.900000                 0.000000        5.300000      0.000000   \n",
      "75%      200.400000                 1.000000        7.000000      1.000000   \n",
      "max      250.000000                 1.000000       12.000000      5.000000   \n",
      "\n",
      "           diabetes  \n",
      "count  80242.000000  \n",
      "mean       0.954936  \n",
      "std        0.207445  \n",
      "min        0.000000  \n",
      "25%        1.000000  \n",
      "50%        1.000000  \n",
      "75%        1.000000  \n",
      "max        1.000000  \n"
     ]
    }
   ],
   "source": [
    "# Preliminary Statistics\n",
    "print('Preliminary Statistics:')\n",
    "print(raw_data.describe())"
   ]
  },
  {
   "cell_type": "markdown",
   "metadata": {},
   "source": [
    "##### Data Inspection Notes\n",
    "- Diabetes Pedigree Function: is a functions that scores the probability of diabetes based on family history"
   ]
  }
 ],
 "metadata": {
  "kernelspec": {
   "display_name": "Python (venv)",
   "language": "python",
   "name": "venv"
  },
  "language_info": {
   "codemirror_mode": {
    "name": "ipython",
    "version": 3
   },
   "file_extension": ".py",
   "mimetype": "text/x-python",
   "name": "python",
   "nbconvert_exporter": "python",
   "pygments_lexer": "ipython3",
   "version": "3.11.9"
  }
 },
 "nbformat": 4,
 "nbformat_minor": 2
}
